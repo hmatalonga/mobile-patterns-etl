{
 "cells": [
  {
   "cell_type": "code",
   "execution_count": 1,
   "metadata": {},
   "outputs": [],
   "source": [
    "import numpy as np\n",
    "import pandas as pd\n",
    "from sklearn.tree import DecisionTreeClassifier\n",
    "from sklearn.ensemble import RandomForestClassifier\n",
    "from sklearn.model_selection import train_test_split\n",
    "from sklearn import metrics\n",
    "\n",
    "%matplotlib inline\n",
    "\n",
    "dataset='ObsoleteLayoutParam.csv'\n",
    "figsize=(12,6)\n",
    "bag=5\n",
    "threshold=5\n",
    "\n",
    "df = pd.read_csv('../datasets/' + dataset)"
   ]
  },
  {
   "cell_type": "code",
   "execution_count": 2,
   "metadata": {},
   "outputs": [],
   "source": [
    "def downcast_dtypes(df):\n",
    "    df_int = df.select_dtypes(include=['int'])\n",
    "    df_int = df_int.apply(pd.to_numeric, downcast='unsigned')\n",
    "    df[df_int.columns] = df_int\n",
    "\n",
    "    df_float = df.select_dtypes(include=['float'])\n",
    "    df_float = df_float.apply(pd.to_numeric, downcast='float')\n",
    "    df[df_float.columns] = df_float\n",
    "    \n",
    "    return df\n",
    "\n",
    "df = downcast_dtypes(df)\n",
    "df = df.drop([df.columns[0]], axis=1)\n",
    "df = df.dropna()"
   ]
  },
  {
   "cell_type": "code",
   "execution_count": 3,
   "metadata": {},
   "outputs": [],
   "source": [
    "def strip_colnames(cols):\n",
    "    cols = cols.str.lower()\n",
    "    cols = cols.str.replace('#', '', regex=False)\n",
    "    cols = cols.str.replace('[().]', '')\n",
    "    cols = cols.str.strip()\n",
    "    cols = cols.str.replace(' ', '_', regex=False)\n",
    "\n",
    "    return cols\n",
    "\n",
    "df.columns = strip_colnames(df.columns)"
   ]
  },
  {
   "cell_type": "code",
   "execution_count": 4,
   "metadata": {},
   "outputs": [],
   "source": [
    "df['result'] = (df['energy_after_fix'] * 100 / df['energy_before_fix']) <= (100 - threshold)"
   ]
  },
  {
   "cell_type": "code",
   "execution_count": 5,
   "metadata": {},
   "outputs": [],
   "source": [
    "features = ['egaps_fixed', 'hits_on_fixed_code', 'total_method_calls', 'diff_method_calls']\n",
    "\n",
    "X = df[features]\n",
    "y = df.result"
   ]
  },
  {
   "cell_type": "code",
   "execution_count": 6,
   "metadata": {},
   "outputs": [
    {
     "name": "stdout",
     "output_type": "stream",
     "text": [
      "0.9151515151515152\n"
     ]
    }
   ],
   "source": [
    "X_train, X_test, y_train, y_test = train_test_split(X, y, test_size=0.3)\n",
    "\n",
    "clf = DecisionTreeClassifier()\n",
    "clf = clf.fit(X_train,y_train)\n",
    "y_pred = clf.predict(X_test)\n",
    "\n",
    "print(metrics.accuracy_score(y_test, y_pred))"
   ]
  },
  {
   "cell_type": "code",
   "execution_count": 7,
   "metadata": {},
   "outputs": [
    {
     "data": {
      "text/plain": [
       "0.8090128755364807"
      ]
     },
     "execution_count": 7,
     "metadata": {},
     "output_type": "execute_result"
    }
   ],
   "source": [
    "metrics.recall_score(y_test, y_pred)"
   ]
  },
  {
   "cell_type": "code",
   "execution_count": 8,
   "metadata": {},
   "outputs": [],
   "source": [
    "from sklearn.tree import export_graphviz\n",
    "export_graphviz(clf, out_file='tree.dot', feature_names = features,\n",
    "                class_names = ['Loss', 'Gain'],\n",
    "                rounded = True, proportion = False, precision = 2, filled = True)"
   ]
  },
  {
   "cell_type": "code",
   "execution_count": null,
   "metadata": {},
   "outputs": [],
   "source": []
  }
 ],
 "metadata": {
  "kernelspec": {
   "display_name": "Python 3",
   "language": "python",
   "name": "python3"
  },
  "language_info": {
   "codemirror_mode": {
    "name": "ipython",
    "version": 3
   },
   "file_extension": ".py",
   "mimetype": "text/x-python",
   "name": "python",
   "nbconvert_exporter": "python",
   "pygments_lexer": "ipython3",
   "version": "3.7.1"
  }
 },
 "nbformat": 4,
 "nbformat_minor": 2
}
