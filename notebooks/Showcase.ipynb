{
 "cells": [
  {
   "cell_type": "markdown",
   "metadata": {},
   "source": [
    "### Observations\n",
    "\n",
    "What is the research directions or goals??\n",
    "\n",
    "The size of each dataset differs a lot and some cases have too few records to infer new information. Data analysis is useful when the datasets are large!\n",
    "\n",
    "- No correlation with diffs even when total and diff calls values are equal, the percentage change is almost the change and there is no conclusive way to determine if time and energy diffs are positive or negative. Since we don't know that the equal number of methods calls is proportionally distributed.\n",
    "- Difficult to estimate change per method, since the energy and time are aggregated.\n",
    "- Individual method stats will be necessary to measure refactor change pct.\n",
    "- Given that the computer uses its full capacity for a given processing time unit as long as the time is reduced so is the energy. The percentage change is proportional for the positive and negative time and energy diffs. \n",
    "- Althought the number of positive is way too small due to the high standard deviation and variance.\n",
    "- Consequence of merging the energy and time measurements.\n",
    "- Achieved similar results when using different datasets, however some patterns show a different behavior when the number of egaps fixed and hits are equal therefore we cannot apply the same reasoning to all the patterns."
   ]
  },
  {
   "cell_type": "code",
   "execution_count": 1,
   "metadata": {
    "scrolled": true
   },
   "outputs": [
    {
     "name": "stdout",
     "output_type": "stream",
     "text": [
      "<class 'pandas.core.frame.DataFrame'>\n",
      "RangeIndex: 500 entries, 0 to 499\n",
      "Data columns (total 9 columns):\n",
      "EGAP(s)                              500 non-null object\n",
      "# EGAPs 'ViewHolder' fixed           500 non-null int64\n",
      "# Hits on 'ViewHolder' fixed code    500 non-null int64\n",
      "Energy (before fix)                  500 non-null float64\n",
      "Energy (after fix)                   500 non-null float64\n",
      "Time (before fix)                    500 non-null float64\n",
      "Time (after fix)                     500 non-null float64\n",
      "# Total method calls                 500 non-null int64\n",
      "# Diff. method calls                 500 non-null int64\n",
      "dtypes: float64(4), int64(4), object(1)\n",
      "memory usage: 35.2+ KB\n"
     ]
    }
   ],
   "source": [
    "import numpy as np\n",
    "import pandas as pd\n",
    "\n",
    "%matplotlib inline\n",
    "\n",
    "dataset='ViewHolder.csv'\n",
    "figsize=(12,6)\n",
    "bag=5\n",
    "\n",
    "df = pd.read_csv('../datasets/' + dataset)\n",
    "\n",
    "df.info()"
   ]
  },
  {
   "cell_type": "markdown",
   "metadata": {},
   "source": [
    "**Describe columns** TODO"
   ]
  },
  {
   "cell_type": "code",
   "execution_count": 2,
   "metadata": {},
   "outputs": [],
   "source": [
    "cols = ['egaps_fixed', 'hits', 'energy_before', 'energy_after',\n",
    "              'time_before', 'time_after', 'total_calls', 'diff_calls']\n",
    "\n",
    "df = df.drop([df.columns[0]], axis=1)\n",
    "df.columns = cols"
   ]
  },
  {
   "cell_type": "code",
   "execution_count": 3,
   "metadata": {},
   "outputs": [
    {
     "name": "stdout",
     "output_type": "stream",
     "text": [
      "<class 'pandas.core.frame.DataFrame'>\n",
      "RangeIndex: 500 entries, 0 to 499\n",
      "Data columns (total 8 columns):\n",
      "egaps_fixed      500 non-null uint8\n",
      "hits             500 non-null uint8\n",
      "energy_before    500 non-null float32\n",
      "energy_after     500 non-null float32\n",
      "time_before      500 non-null float32\n",
      "time_after       500 non-null float32\n",
      "total_calls      500 non-null uint8\n",
      "diff_calls       500 non-null uint8\n",
      "dtypes: float32(4), uint8(4)\n",
      "memory usage: 9.8 KB\n"
     ]
    }
   ],
   "source": [
    "def downcast_dtypes(df):\n",
    "    df_int = df.select_dtypes(include=['int'])\n",
    "    df_int = df_int.apply(pd.to_numeric, downcast='unsigned')\n",
    "    df[df_int.columns] = df_int\n",
    "\n",
    "    df_float = df.select_dtypes(include=['float'])\n",
    "    df_float = df_float.apply(pd.to_numeric, downcast='float')\n",
    "    df[df_float.columns] = df_float\n",
    "    \n",
    "    return df\n",
    "\n",
    "df = downcast_dtypes(df)\n",
    "\n",
    "df.info()"
   ]
  },
  {
   "cell_type": "code",
   "execution_count": 4,
   "metadata": {},
   "outputs": [
    {
     "data": {
      "text/html": [
       "<div>\n",
       "<style scoped>\n",
       "    .dataframe tbody tr th:only-of-type {\n",
       "        vertical-align: middle;\n",
       "    }\n",
       "\n",
       "    .dataframe tbody tr th {\n",
       "        vertical-align: top;\n",
       "    }\n",
       "\n",
       "    .dataframe thead th {\n",
       "        text-align: right;\n",
       "    }\n",
       "</style>\n",
       "<table border=\"1\" class=\"dataframe\">\n",
       "  <thead>\n",
       "    <tr style=\"text-align: right;\">\n",
       "      <th></th>\n",
       "      <th>egaps_fixed</th>\n",
       "      <th>hits</th>\n",
       "      <th>energy_before</th>\n",
       "      <th>energy_after</th>\n",
       "      <th>time_before</th>\n",
       "      <th>time_after</th>\n",
       "      <th>total_calls</th>\n",
       "      <th>diff_calls</th>\n",
       "    </tr>\n",
       "  </thead>\n",
       "  <tbody>\n",
       "    <tr>\n",
       "      <th>440</th>\n",
       "      <td>2</td>\n",
       "      <td>1</td>\n",
       "      <td>24452.636719</td>\n",
       "      <td>41766.0</td>\n",
       "      <td>24268.144531</td>\n",
       "      <td>41677.0</td>\n",
       "      <td>51</td>\n",
       "      <td>14</td>\n",
       "    </tr>\n",
       "    <tr>\n",
       "      <th>131</th>\n",
       "      <td>6</td>\n",
       "      <td>0</td>\n",
       "      <td>20006.369141</td>\n",
       "      <td>43461.0</td>\n",
       "      <td>19917.189453</td>\n",
       "      <td>43460.0</td>\n",
       "      <td>12</td>\n",
       "      <td>9</td>\n",
       "    </tr>\n",
       "    <tr>\n",
       "      <th>81</th>\n",
       "      <td>1</td>\n",
       "      <td>0</td>\n",
       "      <td>8486.032227</td>\n",
       "      <td>8227.0</td>\n",
       "      <td>8450.846680</td>\n",
       "      <td>8285.0</td>\n",
       "      <td>106</td>\n",
       "      <td>21</td>\n",
       "    </tr>\n",
       "    <tr>\n",
       "      <th>448</th>\n",
       "      <td>2</td>\n",
       "      <td>1</td>\n",
       "      <td>25441.146484</td>\n",
       "      <td>42005.0</td>\n",
       "      <td>25636.048828</td>\n",
       "      <td>41812.0</td>\n",
       "      <td>51</td>\n",
       "      <td>14</td>\n",
       "    </tr>\n",
       "    <tr>\n",
       "      <th>498</th>\n",
       "      <td>2</td>\n",
       "      <td>1</td>\n",
       "      <td>32222.722656</td>\n",
       "      <td>60125.0</td>\n",
       "      <td>31978.246094</td>\n",
       "      <td>60283.0</td>\n",
       "      <td>74</td>\n",
       "      <td>20</td>\n",
       "    </tr>\n",
       "  </tbody>\n",
       "</table>\n",
       "</div>"
      ],
      "text/plain": [
       "     egaps_fixed  hits  energy_before  energy_after   time_before  time_after  \\\n",
       "440            2     1   24452.636719       41766.0  24268.144531     41677.0   \n",
       "131            6     0   20006.369141       43461.0  19917.189453     43460.0   \n",
       "81             1     0    8486.032227        8227.0   8450.846680      8285.0   \n",
       "448            2     1   25441.146484       42005.0  25636.048828     41812.0   \n",
       "498            2     1   32222.722656       60125.0  31978.246094     60283.0   \n",
       "\n",
       "     total_calls  diff_calls  \n",
       "440           51          14  \n",
       "131           12           9  \n",
       "81           106          21  \n",
       "448           51          14  \n",
       "498           74          20  "
      ]
     },
     "execution_count": 4,
     "metadata": {},
     "output_type": "execute_result"
    }
   ],
   "source": [
    "df.sample(bag)"
   ]
  },
  {
   "cell_type": "code",
   "execution_count": 5,
   "metadata": {},
   "outputs": [
    {
     "data": {
      "text/html": [
       "<div>\n",
       "<style scoped>\n",
       "    .dataframe tbody tr th:only-of-type {\n",
       "        vertical-align: middle;\n",
       "    }\n",
       "\n",
       "    .dataframe tbody tr th {\n",
       "        vertical-align: top;\n",
       "    }\n",
       "\n",
       "    .dataframe thead th {\n",
       "        text-align: right;\n",
       "    }\n",
       "</style>\n",
       "<table border=\"1\" class=\"dataframe\">\n",
       "  <thead>\n",
       "    <tr style=\"text-align: right;\">\n",
       "      <th></th>\n",
       "      <th>egaps_fixed</th>\n",
       "      <th>hits</th>\n",
       "      <th>energy_before</th>\n",
       "      <th>energy_after</th>\n",
       "      <th>time_before</th>\n",
       "      <th>time_after</th>\n",
       "      <th>total_calls</th>\n",
       "      <th>diff_calls</th>\n",
       "    </tr>\n",
       "  </thead>\n",
       "  <tbody>\n",
       "    <tr>\n",
       "      <th>count</th>\n",
       "      <td>500.000000</td>\n",
       "      <td>500.000000</td>\n",
       "      <td>500.000000</td>\n",
       "      <td>500.000000</td>\n",
       "      <td>500.000000</td>\n",
       "      <td>500.000000</td>\n",
       "      <td>500.000000</td>\n",
       "      <td>500.000000</td>\n",
       "    </tr>\n",
       "    <tr>\n",
       "      <th>mean</th>\n",
       "      <td>2.500000</td>\n",
       "      <td>0.300000</td>\n",
       "      <td>20556.265625</td>\n",
       "      <td>37411.695312</td>\n",
       "      <td>20013.968750</td>\n",
       "      <td>37471.894531</td>\n",
       "      <td>39.200000</td>\n",
       "      <td>12.800000</td>\n",
       "    </tr>\n",
       "    <tr>\n",
       "      <th>std</th>\n",
       "      <td>2.063617</td>\n",
       "      <td>0.557334</td>\n",
       "      <td>6488.013672</td>\n",
       "      <td>17635.285156</td>\n",
       "      <td>6821.612305</td>\n",
       "      <td>17551.810547</td>\n",
       "      <td>37.871209</td>\n",
       "      <td>3.358953</td>\n",
       "    </tr>\n",
       "    <tr>\n",
       "      <th>min</th>\n",
       "      <td>1.000000</td>\n",
       "      <td>0.000000</td>\n",
       "      <td>8314.809570</td>\n",
       "      <td>7830.000000</td>\n",
       "      <td>8250.762695</td>\n",
       "      <td>8052.000000</td>\n",
       "      <td>8.000000</td>\n",
       "      <td>8.000000</td>\n",
       "    </tr>\n",
       "    <tr>\n",
       "      <th>25%</th>\n",
       "      <td>1.000000</td>\n",
       "      <td>0.000000</td>\n",
       "      <td>17684.436279</td>\n",
       "      <td>32503.000000</td>\n",
       "      <td>16902.541992</td>\n",
       "      <td>32487.500000</td>\n",
       "      <td>17.250000</td>\n",
       "      <td>11.000000</td>\n",
       "    </tr>\n",
       "    <tr>\n",
       "      <th>50%</th>\n",
       "      <td>1.500000</td>\n",
       "      <td>0.000000</td>\n",
       "      <td>22257.327148</td>\n",
       "      <td>41977.500000</td>\n",
       "      <td>22170.569336</td>\n",
       "      <td>41933.500000</td>\n",
       "      <td>19.500000</td>\n",
       "      <td>13.500000</td>\n",
       "    </tr>\n",
       "    <tr>\n",
       "      <th>75%</th>\n",
       "      <td>3.000000</td>\n",
       "      <td>0.250000</td>\n",
       "      <td>24959.965332</td>\n",
       "      <td>49181.000000</td>\n",
       "      <td>24870.130859</td>\n",
       "      <td>49176.000000</td>\n",
       "      <td>56.750000</td>\n",
       "      <td>14.000000</td>\n",
       "    </tr>\n",
       "    <tr>\n",
       "      <th>max</th>\n",
       "      <td>6.000000</td>\n",
       "      <td>2.000000</td>\n",
       "      <td>33112.523438</td>\n",
       "      <td>60320.000000</td>\n",
       "      <td>33195.503906</td>\n",
       "      <td>60329.000000</td>\n",
       "      <td>135.000000</td>\n",
       "      <td>21.000000</td>\n",
       "    </tr>\n",
       "  </tbody>\n",
       "</table>\n",
       "</div>"
      ],
      "text/plain": [
       "       egaps_fixed        hits  energy_before  energy_after   time_before  \\\n",
       "count   500.000000  500.000000     500.000000    500.000000    500.000000   \n",
       "mean      2.500000    0.300000   20556.265625  37411.695312  20013.968750   \n",
       "std       2.063617    0.557334    6488.013672  17635.285156   6821.612305   \n",
       "min       1.000000    0.000000    8314.809570   7830.000000   8250.762695   \n",
       "25%       1.000000    0.000000   17684.436279  32503.000000  16902.541992   \n",
       "50%       1.500000    0.000000   22257.327148  41977.500000  22170.569336   \n",
       "75%       3.000000    0.250000   24959.965332  49181.000000  24870.130859   \n",
       "max       6.000000    2.000000   33112.523438  60320.000000  33195.503906   \n",
       "\n",
       "         time_after  total_calls  diff_calls  \n",
       "count    500.000000   500.000000  500.000000  \n",
       "mean   37471.894531    39.200000   12.800000  \n",
       "std    17551.810547    37.871209    3.358953  \n",
       "min     8052.000000     8.000000    8.000000  \n",
       "25%    32487.500000    17.250000   11.000000  \n",
       "50%    41933.500000    19.500000   13.500000  \n",
       "75%    49176.000000    56.750000   14.000000  \n",
       "max    60329.000000   135.000000   21.000000  "
      ]
     },
     "execution_count": 5,
     "metadata": {},
     "output_type": "execute_result"
    }
   ],
   "source": [
    "df.describe()"
   ]
  },
  {
   "cell_type": "code",
   "execution_count": 6,
   "metadata": {},
   "outputs": [
    {
     "data": {
      "text/plain": [
       "500"
      ]
     },
     "execution_count": 6,
     "metadata": {},
     "output_type": "execute_result"
    }
   ],
   "source": [
    "def group_rows(df, as_index=False, step=25):\n",
    "    agg_cols = ['egaps_fixed', 'hits', 'total_calls', 'diff_calls']\n",
    "    gf = pd.DataFrame()\n",
    "    for i in range(0, df.shape[0], step):\n",
    "        row = df.iloc[i:i+step].groupby(agg_cols, as_index=False).mean()\n",
    "        gf = gf.append(row, ignore_index=True)\n",
    "\n",
    "    return gf\n",
    "\n",
    "# df_ugp = df.copy()\n",
    "# df = group_rows(df)\n",
    "df.shape[0]"
   ]
  },
  {
   "cell_type": "code",
   "execution_count": 7,
   "metadata": {},
   "outputs": [
    {
     "data": {
      "text/html": [
       "<div>\n",
       "<style scoped>\n",
       "    .dataframe tbody tr th:only-of-type {\n",
       "        vertical-align: middle;\n",
       "    }\n",
       "\n",
       "    .dataframe tbody tr th {\n",
       "        vertical-align: top;\n",
       "    }\n",
       "\n",
       "    .dataframe thead th {\n",
       "        text-align: right;\n",
       "    }\n",
       "</style>\n",
       "<table border=\"1\" class=\"dataframe\">\n",
       "  <thead>\n",
       "    <tr style=\"text-align: right;\">\n",
       "      <th></th>\n",
       "      <th>egaps_fixed</th>\n",
       "      <th>hits</th>\n",
       "      <th>energy_before</th>\n",
       "      <th>energy_after</th>\n",
       "      <th>time_before</th>\n",
       "      <th>time_after</th>\n",
       "      <th>total_calls</th>\n",
       "      <th>diff_calls</th>\n",
       "    </tr>\n",
       "  </thead>\n",
       "  <tbody>\n",
       "    <tr>\n",
       "      <th>302</th>\n",
       "      <td>1</td>\n",
       "      <td>0</td>\n",
       "      <td>21593.072266</td>\n",
       "      <td>41468.0</td>\n",
       "      <td>21525.505859</td>\n",
       "      <td>41549.0</td>\n",
       "      <td>19</td>\n",
       "      <td>14</td>\n",
       "    </tr>\n",
       "    <tr>\n",
       "      <th>53</th>\n",
       "      <td>1</td>\n",
       "      <td>0</td>\n",
       "      <td>10648.469727</td>\n",
       "      <td>9339.0</td>\n",
       "      <td>8539.650391</td>\n",
       "      <td>9739.0</td>\n",
       "      <td>20</td>\n",
       "      <td>11</td>\n",
       "    </tr>\n",
       "    <tr>\n",
       "      <th>66</th>\n",
       "      <td>1</td>\n",
       "      <td>0</td>\n",
       "      <td>11141.970703</td>\n",
       "      <td>9534.0</td>\n",
       "      <td>8979.641602</td>\n",
       "      <td>9842.0</td>\n",
       "      <td>20</td>\n",
       "      <td>11</td>\n",
       "    </tr>\n",
       "    <tr>\n",
       "      <th>29</th>\n",
       "      <td>1</td>\n",
       "      <td>0</td>\n",
       "      <td>10487.737305</td>\n",
       "      <td>8341.0</td>\n",
       "      <td>8631.661133</td>\n",
       "      <td>8741.0</td>\n",
       "      <td>20</td>\n",
       "      <td>11</td>\n",
       "    </tr>\n",
       "    <tr>\n",
       "      <th>380</th>\n",
       "      <td>2</td>\n",
       "      <td>2</td>\n",
       "      <td>22846.492188</td>\n",
       "      <td>43066.0</td>\n",
       "      <td>22913.630859</td>\n",
       "      <td>43064.0</td>\n",
       "      <td>102</td>\n",
       "      <td>15</td>\n",
       "    </tr>\n",
       "  </tbody>\n",
       "</table>\n",
       "</div>"
      ],
      "text/plain": [
       "     egaps_fixed  hits  energy_before  energy_after   time_before  time_after  \\\n",
       "302            1     0   21593.072266       41468.0  21525.505859     41549.0   \n",
       "53             1     0   10648.469727        9339.0   8539.650391      9739.0   \n",
       "66             1     0   11141.970703        9534.0   8979.641602      9842.0   \n",
       "29             1     0   10487.737305        8341.0   8631.661133      8741.0   \n",
       "380            2     2   22846.492188       43066.0  22913.630859     43064.0   \n",
       "\n",
       "     total_calls  diff_calls  \n",
       "302           19          14  \n",
       "53            20          11  \n",
       "66            20          11  \n",
       "29            20          11  \n",
       "380          102          15  "
      ]
     },
     "execution_count": 7,
     "metadata": {},
     "output_type": "execute_result"
    }
   ],
   "source": [
    "df.sample(bag)"
   ]
  },
  {
   "cell_type": "code",
   "execution_count": 8,
   "metadata": {},
   "outputs": [
    {
     "data": {
      "text/plain": [
       "<matplotlib.axes._subplots.AxesSubplot at 0x7f369e34f550>"
      ]
     },
     "execution_count": 8,
     "metadata": {},
     "output_type": "execute_result"
    },
    {
     "data": {
      "image/png": "[encoded data removed]",
      "text/plain": [
       "<Figure size 864x432 with 1 Axes>"
      ]
     },
     "metadata": {
      "needs_background": "light"
     },
     "output_type": "display_data"
    },
    {
     "data": {
      "image/png": "[encoded data removed]",
      "text/plain": [
       "<Figure size 864x432 with 1 Axes>"
      ]
     },
     "metadata": {
      "needs_background": "light"
     },
     "output_type": "display_data"
    }
   ],
   "source": [
    "df[['egaps_fixed', 'hits']].plot(figsize=figsize)\n",
    "df[['total_calls', 'diff_calls']].plot(figsize=figsize)"
   ]
  },
  {
   "cell_type": "code",
   "execution_count": 9,
   "metadata": {},
   "outputs": [
    {
     "data": {
      "text/plain": [
       "<matplotlib.axes._subplots.AxesSubplot at 0x7f369e2d19e8>"
      ]
     },
     "execution_count": 9,
     "metadata": {},
     "output_type": "execute_result"
    },
    {
     "data": {
      "image/png": "[encoded data removed]",
      "text/plain": [
       "<Figure size 864x432 with 1 Axes>"
      ]
     },
     "metadata": {
      "needs_background": "light"
     },
     "output_type": "display_data"
    },
    {
     "data": {
      "image/png": "[encoded data removed]",
      "text/plain": [
       "<Figure size 864x432 with 1 Axes>"
      ]
     },
     "metadata": {
      "needs_background": "light"
     },
     "output_type": "display_data"
    }
   ],
   "source": [
    "gl = df[['egaps_fixed', 'hits']].copy()\n",
    "gl.cumsum().plot(figsize=figsize)\n",
    "gl = df[['total_calls', 'diff_calls']].copy()\n",
    "gl.cumsum().plot(figsize=figsize)"
   ]
  },
  {
   "cell_type": "code",
   "execution_count": 10,
   "metadata": {},
   "outputs": [
    {
     "data": {
      "text/plain": [
       "1    250\n",
       "6    125\n",
       "2    125\n",
       "Name: egaps_fixed, dtype: int64"
      ]
     },
     "execution_count": 10,
     "metadata": {},
     "output_type": "execute_result"
    }
   ],
   "source": [
    "df['egaps_fixed'].value_counts()[:10]"
   ]
  },
  {
   "cell_type": "code",
   "execution_count": 11,
   "metadata": {},
   "outputs": [
    {
     "data": {
      "text/plain": [
       "0    375\n",
       "1    100\n",
       "2     25\n",
       "Name: hits, dtype: int64"
      ]
     },
     "execution_count": 11,
     "metadata": {},
     "output_type": "execute_result"
    }
   ],
   "source": [
    "df['hits'].value_counts()[:10]"
   ]
  },
  {
   "cell_type": "markdown",
   "metadata": {},
   "source": [
    "### Feature engineering\n",
    "- Has Hits, whether the number of hits is greater than zero\n",
    "- Equal Egaps and Hits, whether the number of egaps fixed is equal to the number of hits\n",
    "- Ratio Hits, ratio between egaps fixed and hits\n",
    "- Ration calls, ration between total number of calls and different methods calls\n",
    "- Energy diff, True if energy after is lower than energy before, False otherwise\n",
    "- Time diff, True if time after is lower than time before, False otherwise\n",
    "- Energy percentage, Energy gain/loss in percentage comparing the before and after\n",
    "- Time percentage, Time gain/loss in percentage comparing the before and after"
   ]
  },
  {
   "cell_type": "code",
   "execution_count": 12,
   "metadata": {},
   "outputs": [],
   "source": [
    "df['has_hits'] = df['hits'] > 0\n",
    "df['eq_egaps_hits'] = df['egaps_fixed'] == df['hits']\n",
    "df['ratio_hits'] = df['egaps_fixed'] / df['hits']\n",
    "df['ratio_calls'] = df['total_calls'] / df['diff_calls']\n",
    "df['energy_diff'] = df['energy_before'] > df['energy_after']\n",
    "df['time_diff'] = df['time_before'] > df['time_after']\n",
    "df['energy_pct'] = -(100 - df['energy_after'] * 100 / df['energy_before'])\n",
    "df['time_pct'] = -(100 - df['time_after'] * 100 / df['time_before'])\n",
    "df = df.fillna(0)\n",
    "df = df.round(2)\n",
    "gg = group_rows(df.copy())"
   ]
  },
  {
   "cell_type": "code",
   "execution_count": 13,
   "metadata": {},
   "outputs": [],
   "source": [
    "df = df.drop(['energy_before', 'energy_after', 'time_before', 'time_after'], axis=1)"
   ]
  },
  {
   "cell_type": "code",
   "execution_count": 14,
   "metadata": {},
   "outputs": [
    {
     "data": {
      "text/html": [
       "<div>\n",
       "<style scoped>\n",
       "    .dataframe tbody tr th:only-of-type {\n",
       "        vertical-align: middle;\n",
       "    }\n",
       "\n",
       "    .dataframe tbody tr th {\n",
       "        vertical-align: top;\n",
       "    }\n",
       "\n",
       "    .dataframe thead th {\n",
       "        text-align: right;\n",
       "    }\n",
       "</style>\n",
       "<table border=\"1\" class=\"dataframe\">\n",
       "  <thead>\n",
       "    <tr style=\"text-align: right;\">\n",
       "      <th></th>\n",
       "      <th>egaps_fixed</th>\n",
       "      <th>hits</th>\n",
       "      <th>total_calls</th>\n",
       "      <th>diff_calls</th>\n",
       "      <th>has_hits</th>\n",
       "      <th>eq_egaps_hits</th>\n",
       "      <th>ratio_hits</th>\n",
       "      <th>ratio_calls</th>\n",
       "      <th>energy_diff</th>\n",
       "      <th>time_diff</th>\n",
       "      <th>energy_pct</th>\n",
       "      <th>time_pct</th>\n",
       "    </tr>\n",
       "  </thead>\n",
       "  <tbody>\n",
       "    <tr>\n",
       "      <th>362</th>\n",
       "      <td>1</td>\n",
       "      <td>0</td>\n",
       "      <td>19</td>\n",
       "      <td>14</td>\n",
       "      <td>False</td>\n",
       "      <td>False</td>\n",
       "      <td>inf</td>\n",
       "      <td>1.36</td>\n",
       "      <td>False</td>\n",
       "      <td>False</td>\n",
       "      <td>106.400002</td>\n",
       "      <td>105.750000</td>\n",
       "    </tr>\n",
       "    <tr>\n",
       "      <th>115</th>\n",
       "      <td>1</td>\n",
       "      <td>0</td>\n",
       "      <td>20</td>\n",
       "      <td>11</td>\n",
       "      <td>False</td>\n",
       "      <td>False</td>\n",
       "      <td>inf</td>\n",
       "      <td>1.82</td>\n",
       "      <td>True</td>\n",
       "      <td>True</td>\n",
       "      <td>-4.900000</td>\n",
       "      <td>-3.090000</td>\n",
       "    </tr>\n",
       "    <tr>\n",
       "      <th>118</th>\n",
       "      <td>1</td>\n",
       "      <td>0</td>\n",
       "      <td>20</td>\n",
       "      <td>11</td>\n",
       "      <td>False</td>\n",
       "      <td>False</td>\n",
       "      <td>inf</td>\n",
       "      <td>1.82</td>\n",
       "      <td>True</td>\n",
       "      <td>True</td>\n",
       "      <td>-5.920000</td>\n",
       "      <td>-3.770000</td>\n",
       "    </tr>\n",
       "    <tr>\n",
       "      <th>131</th>\n",
       "      <td>6</td>\n",
       "      <td>0</td>\n",
       "      <td>12</td>\n",
       "      <td>9</td>\n",
       "      <td>False</td>\n",
       "      <td>False</td>\n",
       "      <td>inf</td>\n",
       "      <td>1.33</td>\n",
       "      <td>False</td>\n",
       "      <td>False</td>\n",
       "      <td>117.239998</td>\n",
       "      <td>118.199997</td>\n",
       "    </tr>\n",
       "    <tr>\n",
       "      <th>281</th>\n",
       "      <td>1</td>\n",
       "      <td>0</td>\n",
       "      <td>19</td>\n",
       "      <td>14</td>\n",
       "      <td>False</td>\n",
       "      <td>False</td>\n",
       "      <td>inf</td>\n",
       "      <td>1.36</td>\n",
       "      <td>False</td>\n",
       "      <td>False</td>\n",
       "      <td>84.599998</td>\n",
       "      <td>85.099998</td>\n",
       "    </tr>\n",
       "  </tbody>\n",
       "</table>\n",
       "</div>"
      ],
      "text/plain": [
       "     egaps_fixed  hits  total_calls  diff_calls  has_hits  eq_egaps_hits  \\\n",
       "362            1     0           19          14     False          False   \n",
       "115            1     0           20          11     False          False   \n",
       "118            1     0           20          11     False          False   \n",
       "131            6     0           12           9     False          False   \n",
       "281            1     0           19          14     False          False   \n",
       "\n",
       "     ratio_hits  ratio_calls  energy_diff  time_diff  energy_pct    time_pct  \n",
       "362         inf         1.36        False      False  106.400002  105.750000  \n",
       "115         inf         1.82         True       True   -4.900000   -3.090000  \n",
       "118         inf         1.82         True       True   -5.920000   -3.770000  \n",
       "131         inf         1.33        False      False  117.239998  118.199997  \n",
       "281         inf         1.36        False      False   84.599998   85.099998  "
      ]
     },
     "execution_count": 14,
     "metadata": {},
     "output_type": "execute_result"
    }
   ],
   "source": [
    "df.sample(bag)"
   ]
  },
  {
   "cell_type": "code",
   "execution_count": 15,
   "metadata": {},
   "outputs": [
    {
     "data": {
      "text/plain": [
       "<matplotlib.axes._subplots.AxesSubplot at 0x7f369e2c8f98>"
      ]
     },
     "execution_count": 15,
     "metadata": {},
     "output_type": "execute_result"
    },
    {
     "data": {
      "image/png": "[encoded data removed]",
      "text/plain": [
       "<Figure size 864x432 with 1 Axes>"
      ]
     },
     "metadata": {
      "needs_background": "light"
     },
     "output_type": "display_data"
    }
   ],
   "source": [
    "df['has_hits'].value_counts().plot.barh(figsize=figsize)"
   ]
  },
  {
   "cell_type": "code",
   "execution_count": 16,
   "metadata": {},
   "outputs": [
    {
     "data": {
      "text/plain": [
       "<matplotlib.axes._subplots.AxesSubplot at 0x7f369e16c828>"
      ]
     },
     "execution_count": 16,
     "metadata": {},
     "output_type": "execute_result"
    },
    {
     "data": {
      "image/png": "[encoded data removed]",
      "text/plain": [
       "<Figure size 864x432 with 1 Axes>"
      ]
     },
     "metadata": {
      "needs_background": "light"
     },
     "output_type": "display_data"
    }
   ],
   "source": [
    "df['eq_egaps_hits'].value_counts().plot.barh(figsize=figsize)"
   ]
  },
  {
   "cell_type": "code",
   "execution_count": 17,
   "metadata": {},
   "outputs": [
    {
     "data": {
      "text/plain": [
       "False    375\n",
       "True     125\n",
       "Name: energy_diff, dtype: int64"
      ]
     },
     "execution_count": 17,
     "metadata": {},
     "output_type": "execute_result"
    }
   ],
   "source": [
    "df['energy_diff'].value_counts()"
   ]
  },
  {
   "cell_type": "code",
   "execution_count": 18,
   "metadata": {},
   "outputs": [
    {
     "data": {
      "text/plain": [
       "False    418\n",
       "True      82\n",
       "Name: time_diff, dtype: int64"
      ]
     },
     "execution_count": 18,
     "metadata": {},
     "output_type": "execute_result"
    }
   ],
   "source": [
    "df['time_diff'].value_counts()"
   ]
  },
  {
   "cell_type": "code",
   "execution_count": 19,
   "metadata": {},
   "outputs": [],
   "source": [
    "dff = df[df['total_calls'] == df['diff_calls']]\n",
    "if not dff.empty:\n",
    "    dff.sample(bag)"
   ]
  },
  {
   "cell_type": "code",
   "execution_count": 20,
   "metadata": {},
   "outputs": [],
   "source": [
    "dff = df[df['energy_diff'] == True]\n",
    "if not dff.empty:\n",
    "    dff.sample(bag)"
   ]
  },
  {
   "cell_type": "code",
   "execution_count": 21,
   "metadata": {},
   "outputs": [
    {
     "data": {
      "text/plain": [
       "<matplotlib.axes._subplots.AxesSubplot at 0x7f369e1cf160>"
      ]
     },
     "execution_count": 21,
     "metadata": {},
     "output_type": "execute_result"
    },
    {
     "data": {
      "image/png": "[encoded data removed]",
      "text/plain": [
       "<Figure size 864x432 with 1 Axes>"
      ]
     },
     "metadata": {
      "needs_background": "light"
     },
     "output_type": "display_data"
    },
    {
     "data": {
      "image/png": "[encoded data removed]",
      "text/plain": [
       "<Figure size 864x432 with 1 Axes>"
      ]
     },
     "metadata": {
      "needs_background": "light"
     },
     "output_type": "display_data"
    }
   ],
   "source": [
    "df.groupby(['egaps_fixed', 'hits'])['energy_diff'].value_counts().unstack().fillna(0).plot(figsize=figsize)\n",
    "df.groupby(['total_calls', 'diff_calls'])['energy_diff'].value_counts().unstack().fillna(0).plot(figsize=figsize)"
   ]
  },
  {
   "cell_type": "code",
   "execution_count": 44,
   "metadata": {},
   "outputs": [
    {
     "data": {
      "text/html": [
       "<div>\n",
       "<style scoped>\n",
       "    .dataframe tbody tr th:only-of-type {\n",
       "        vertical-align: middle;\n",
       "    }\n",
       "\n",
       "    .dataframe tbody tr th {\n",
       "        vertical-align: top;\n",
       "    }\n",
       "\n",
       "    .dataframe thead th {\n",
       "        text-align: right;\n",
       "    }\n",
       "</style>\n",
       "<table border=\"1\" class=\"dataframe\">\n",
       "  <thead>\n",
       "    <tr style=\"text-align: right;\">\n",
       "      <th></th>\n",
       "      <th>energy_diff</th>\n",
       "      <th>False</th>\n",
       "      <th>True</th>\n",
       "    </tr>\n",
       "    <tr>\n",
       "      <th>egaps_fixed</th>\n",
       "      <th>hits</th>\n",
       "      <th></th>\n",
       "      <th></th>\n",
       "    </tr>\n",
       "  </thead>\n",
       "  <tbody>\n",
       "    <tr>\n",
       "      <th>1</th>\n",
       "      <th>0</th>\n",
       "      <td>89.714081</td>\n",
       "      <td>-14.86272</td>\n",
       "    </tr>\n",
       "    <tr>\n",
       "      <th rowspan=\"2\" valign=\"top\">2</th>\n",
       "      <th>1</th>\n",
       "      <td>82.486603</td>\n",
       "      <td>0.00000</td>\n",
       "    </tr>\n",
       "    <tr>\n",
       "      <th>2</th>\n",
       "      <td>85.099998</td>\n",
       "      <td>0.00000</td>\n",
       "    </tr>\n",
       "    <tr>\n",
       "      <th>6</th>\n",
       "      <th>0</th>\n",
       "      <td>117.722878</td>\n",
       "      <td>0.00000</td>\n",
       "    </tr>\n",
       "  </tbody>\n",
       "</table>\n",
       "</div>"
      ],
      "text/plain": [
       "energy_diff            False     True \n",
       "egaps_fixed hits                      \n",
       "1           0      89.714081 -14.86272\n",
       "2           1      82.486603   0.00000\n",
       "            2      85.099998   0.00000\n",
       "6           0     117.722878   0.00000"
      ]
     },
     "execution_count": 44,
     "metadata": {},
     "output_type": "execute_result"
    }
   ],
   "source": [
    "df.groupby(['egaps_fixed', 'hits', 'energy_diff'])['energy_pct'].mean().unstack().fillna(0)"
   ]
  },
  {
   "cell_type": "code",
   "execution_count": 23,
   "metadata": {},
   "outputs": [
    {
     "data": {
      "text/html": [
       "<div>\n",
       "<style scoped>\n",
       "    .dataframe tbody tr th:only-of-type {\n",
       "        vertical-align: middle;\n",
       "    }\n",
       "\n",
       "    .dataframe tbody tr th {\n",
       "        vertical-align: top;\n",
       "    }\n",
       "\n",
       "    .dataframe thead th {\n",
       "        text-align: right;\n",
       "    }\n",
       "</style>\n",
       "<table border=\"1\" class=\"dataframe\">\n",
       "  <thead>\n",
       "    <tr style=\"text-align: right;\">\n",
       "      <th></th>\n",
       "      <th>energy_diff</th>\n",
       "      <th>False</th>\n",
       "      <th>True</th>\n",
       "    </tr>\n",
       "    <tr>\n",
       "      <th>total_calls</th>\n",
       "      <th>diff_calls</th>\n",
       "      <th></th>\n",
       "      <th></th>\n",
       "    </tr>\n",
       "  </thead>\n",
       "  <tbody>\n",
       "    <tr>\n",
       "      <th>8</th>\n",
       "      <th>8</th>\n",
       "      <td>25.0</td>\n",
       "      <td>0.0</td>\n",
       "    </tr>\n",
       "    <tr>\n",
       "      <th>11</th>\n",
       "      <th>8</th>\n",
       "      <td>25.0</td>\n",
       "      <td>0.0</td>\n",
       "    </tr>\n",
       "    <tr>\n",
       "      <th rowspan=\"2\" valign=\"top\">12</th>\n",
       "      <th>9</th>\n",
       "      <td>50.0</td>\n",
       "      <td>0.0</td>\n",
       "    </tr>\n",
       "    <tr>\n",
       "      <th>11</th>\n",
       "      <td>25.0</td>\n",
       "      <td>0.0</td>\n",
       "    </tr>\n",
       "    <tr>\n",
       "      <th>19</th>\n",
       "      <th>14</th>\n",
       "      <td>125.0</td>\n",
       "      <td>0.0</td>\n",
       "    </tr>\n",
       "    <tr>\n",
       "      <th>20</th>\n",
       "      <th>11</th>\n",
       "      <td>0.0</td>\n",
       "      <td>100.0</td>\n",
       "    </tr>\n",
       "    <tr>\n",
       "      <th>51</th>\n",
       "      <th>14</th>\n",
       "      <td>25.0</td>\n",
       "      <td>0.0</td>\n",
       "    </tr>\n",
       "    <tr>\n",
       "      <th>74</th>\n",
       "      <th>20</th>\n",
       "      <td>25.0</td>\n",
       "      <td>0.0</td>\n",
       "    </tr>\n",
       "    <tr>\n",
       "      <th>86</th>\n",
       "      <th>14</th>\n",
       "      <td>25.0</td>\n",
       "      <td>0.0</td>\n",
       "    </tr>\n",
       "    <tr>\n",
       "      <th>102</th>\n",
       "      <th>15</th>\n",
       "      <td>25.0</td>\n",
       "      <td>0.0</td>\n",
       "    </tr>\n",
       "    <tr>\n",
       "      <th>106</th>\n",
       "      <th>21</th>\n",
       "      <td>0.0</td>\n",
       "      <td>25.0</td>\n",
       "    </tr>\n",
       "    <tr>\n",
       "      <th>135</th>\n",
       "      <th>13</th>\n",
       "      <td>25.0</td>\n",
       "      <td>0.0</td>\n",
       "    </tr>\n",
       "  </tbody>\n",
       "</table>\n",
       "</div>"
      ],
      "text/plain": [
       "energy_diff             False  True \n",
       "total_calls diff_calls              \n",
       "8           8            25.0    0.0\n",
       "11          8            25.0    0.0\n",
       "12          9            50.0    0.0\n",
       "            11           25.0    0.0\n",
       "19          14          125.0    0.0\n",
       "20          11            0.0  100.0\n",
       "51          14           25.0    0.0\n",
       "74          20           25.0    0.0\n",
       "86          14           25.0    0.0\n",
       "102         15           25.0    0.0\n",
       "106         21            0.0   25.0\n",
       "135         13           25.0    0.0"
      ]
     },
     "execution_count": 23,
     "metadata": {},
     "output_type": "execute_result"
    }
   ],
   "source": [
    "df.groupby(['total_calls', 'diff_calls'])['energy_diff'].value_counts().unstack().fillna(0)"
   ]
  },
  {
   "cell_type": "code",
   "execution_count": 24,
   "metadata": {},
   "outputs": [
    {
     "name": "stdout",
     "output_type": "stream",
     "text": [
      "* Positive cases for [energy_diff]:\n",
      "* Count 125\n",
      "* Energy change -114.86\n",
      "* Time change -99.87\n",
      "* Energy/Time change difference 15.00\n",
      "* Ratio calls 2.47\n"
     ]
    }
   ],
   "source": [
    "def output_info(dff, col, title):\n",
    "    print('* %s for [%s]:' % (title, col))\n",
    "    print('* Count %d' % dff[col].count())\n",
    "    print('* Energy change %.2f' % -(100 - dff['energy_pct'].mean()))\n",
    "    print('* Time change %.2f' % -(100 - dff['time_pct'].mean()))\n",
    "    print('* Energy/Time change difference %.2f' % abs(dff['energy_pct'].mean() - dff['time_pct'].mean()))\n",
    "    print('* Ratio calls %.2f' % dff['ratio_calls'].mean())\n",
    "\n",
    "output_info(dff, 'energy_diff', 'Positive cases')"
   ]
  },
  {
   "cell_type": "code",
   "execution_count": 25,
   "metadata": {},
   "outputs": [],
   "source": [
    "dff = df[df['time_diff'] == True]\n",
    "if not dff.empty:\n",
    "    dff.sample(bag)"
   ]
  },
  {
   "cell_type": "code",
   "execution_count": 26,
   "metadata": {},
   "outputs": [
    {
     "name": "stdout",
     "output_type": "stream",
     "text": [
      "* Positive cases for [time_diff]:\n",
      "* Count 82\n",
      "* Energy change -114.06\n",
      "* Time change -103.47\n",
      "* Energy/Time change difference 10.58\n",
      "* Ratio calls 2.80\n"
     ]
    }
   ],
   "source": [
    "output_info(dff, 'time_diff', 'Positive cases')"
   ]
  },
  {
   "cell_type": "code",
   "execution_count": 27,
   "metadata": {},
   "outputs": [],
   "source": [
    "dff = df[df['energy_diff'] == False]\n",
    "if not dff.empty:\n",
    "    dff.sample(bag)"
   ]
  },
  {
   "cell_type": "code",
   "execution_count": 28,
   "metadata": {},
   "outputs": [
    {
     "name": "stdout",
     "output_type": "stream",
     "text": [
      "* Negative cases for [energy_diff]:\n",
      "* Count 375\n",
      "* Energy change -3.18\n",
      "* Time change -1.23\n",
      "* Energy/Time change difference 1.95\n",
      "* Ratio calls 2.91\n"
     ]
    }
   ],
   "source": [
    "output_info(dff, 'energy_diff', 'Negative cases')"
   ]
  },
  {
   "cell_type": "code",
   "execution_count": 29,
   "metadata": {},
   "outputs": [],
   "source": [
    "dff = df[df['time_diff'] == False]\n",
    "if not dff.empty:\n",
    "    dff.sample(bag)"
   ]
  },
  {
   "cell_type": "code",
   "execution_count": 30,
   "metadata": {},
   "outputs": [
    {
     "name": "stdout",
     "output_type": "stream",
     "text": [
      "* Negative cases for [time_diff]:\n",
      "* Count 418\n",
      "* Energy change -14.83\n",
      "* Time change -10.67\n",
      "* Energy/Time change difference 4.16\n",
      "* Ratio calls 2.79\n"
     ]
    }
   ],
   "source": [
    "output_info(dff, 'time_diff', 'Negative cases')"
   ]
  },
  {
   "cell_type": "code",
   "execution_count": 31,
   "metadata": {},
   "outputs": [
    {
     "data": {
      "text/plain": [
       "<matplotlib.axes._subplots.AxesSubplot at 0x7f369e1bde48>"
      ]
     },
     "execution_count": 31,
     "metadata": {},
     "output_type": "execute_result"
    },
    {
     "data": {
      "image/png": "[encoded data removed]",
      "text/plain": [
       "<Figure size 864x432 with 1 Axes>"
      ]
     },
     "metadata": {
      "needs_background": "light"
     },
     "output_type": "display_data"
    }
   ],
   "source": [
    "df['bin'] = pd.cut(df['total_calls'], bins=5)\n",
    "df['bin'].value_counts().plot.barh(figsize=figsize)"
   ]
  },
  {
   "cell_type": "code",
   "execution_count": 32,
   "metadata": {},
   "outputs": [
    {
     "data": {
      "text/plain": [
       "<matplotlib.axes._subplots.AxesSubplot at 0x7f369e2268d0>"
      ]
     },
     "execution_count": 32,
     "metadata": {},
     "output_type": "execute_result"
    },
    {
     "data": {
      "image/png": "[encoded data removed]",
      "text/plain": [
       "<Figure size 864x432 with 1 Axes>"
      ]
     },
     "metadata": {
      "needs_background": "light"
     },
     "output_type": "display_data"
    }
   ],
   "source": [
    "df['bin'] = pd.cut(df['diff_calls'], bins=5)\n",
    "df['bin'].value_counts().plot.barh(figsize=figsize)"
   ]
  }
 ],
 "metadata": {
  "kernelspec": {
   "display_name": "Python 3",
   "language": "python",
   "name": "python3"
  },
  "language_info": {
   "codemirror_mode": {
    "name": "ipython",
    "version": 3
   },
   "file_extension": ".py",
   "mimetype": "text/x-python",
   "name": "python",
   "nbconvert_exporter": "python",
   "pygments_lexer": "ipython3",
   "version": "3.7.1"
  }
 },
 "nbformat": 4,
 "nbformat_minor": 2
}
